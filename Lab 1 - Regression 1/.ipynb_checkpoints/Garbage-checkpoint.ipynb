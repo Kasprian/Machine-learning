{
 "cells": [
  {
   "cell_type": "code",
   "execution_count": 1,
   "metadata": {},
   "outputs": [
    {
     "name": "stdout",
     "output_type": "stream",
     "text": [
      "[ 2.67994637 -2.35056013  0.7100703  -1.60580402 -1.55993525  0.1008561\n",
      "  1.18076737 -2.52053962 -0.73006829  0.14866918  2.7459735   1.6535637\n",
      "  0.78959524 -0.17378419 -1.0163302   0.53287859  0.13617423 -0.13680692\n",
      "  1.2307569   0.97378354]\n",
      "[9.719040400537821, 6.73480912609986, 6.652214106238793, 9.695175449916135, 6.247088780766383, 5.919025519948493, 12.785453972501465, 7.791872728316328, 12.497762973902049, 7.007912616343501]\n"
     ]
    }
   ],
   "source": [
    "import numpy as np\n",
    "import matplotlib.pyplot as plt\n",
    "from sklearn.model_selection import train_test_split\n",
    "from sklearn.linear_model import Ridge\n",
    "from sklearn.model_selection import KFold\n",
    "from sklearn.metrics import mean_squared_error\n",
    "\n",
    "X = np.load('Xtrain_Regression_part1.npy')\n",
    "y= np.load('Ytrain_Regression_part1.npy')\n",
    "X_train, X_test, y_train, y_test = train_test_split(X, y, test_size=0.2)\n",
    "\n",
    "linreg = Ridge()\n",
    "linreg.fit(X_train, y_train)\n",
    "y_hat_test = linreg.predict(X_test)\n",
    "print(y_hat_test)\n",
    "\n",
    "kf = KFold(n_splits=10)\n",
    "scores = []\n",
    "for train_index, test_index in kf.split(X,y):\n",
    "    X_train, X_test = X[train_index], X[test_index]\n",
    "    y_train, y_test = y[train_index], y[test_index]\n",
    "    linreg.fit(X_train, y_train)\n",
    "    predict = linreg.predict(X_test)\n",
    "    scores.append(mean_squared_error(y_test, predict))\n",
    "\n",
    "print(scores)"
   ]
  },
  {
   "cell_type": "code",
   "execution_count": 18,
   "metadata": {},
   "outputs": [
    {
     "name": "stdout",
     "output_type": "stream",
     "text": [
      "Coefficients: \n",
      " [[ 2.17327582e-02  5.52578871e-04  7.80913919e-02  3.31357433e-01\n",
      "  -6.81661406e-01  1.69721957e+00  4.98734472e-02  1.81267959e+00\n",
      "   7.78111741e-03 -1.44714336e-02 -1.45742338e+00 -7.07007047e-01\n",
      "   3.27382534e-02 -6.17384811e-01  6.92794585e-03 -3.76264812e-01\n",
      "  -1.29490509e-01 -1.36598513e+00 -1.27365158e+00  9.58563665e-01]]\n"
     ]
    }
   ],
   "source": [
    "import numpy as np\n",
    "import matplotlib.pyplot as plt\n",
    "from sklearn.model_selection import train_test_split\n",
    "from sklearn.linear_model import LinearRegression\n",
    "from sklearn.model_selection import KFold\n",
    "\n",
    "X = np.load('Xtrain_Regression_part1.npy')\n",
    "y= np.load('Ytrain_Regression_part1.npy')\n",
    "X_test = np.load('Xtest_Regression_Part1.npy')\n",
    "\n",
    "linreg = LinearRegression()\n",
    "linreg.fit(X, y)\n",
    "y_hat_test = linreg.predict(X_test)\n",
    "print('Coefficients: \\n', linreg.coef_)"
   ]
  },
  {
   "cell_type": "code",
   "execution_count": 8,
   "metadata": {},
   "outputs": [],
   "source": []
  },
  {
   "cell_type": "code",
   "execution_count": null,
   "metadata": {},
   "outputs": [],
   "source": []
  },
  {
   "cell_type": "code",
   "execution_count": null,
   "metadata": {},
   "outputs": [],
   "source": []
  }
 ],
 "metadata": {
  "kernelspec": {
   "display_name": "Python 3",
   "language": "python",
   "name": "python3"
  },
  "language_info": {
   "codemirror_mode": {
    "name": "ipython",
    "version": 3
   },
   "file_extension": ".py",
   "mimetype": "text/x-python",
   "name": "python",
   "nbconvert_exporter": "python",
   "pygments_lexer": "ipython3",
   "version": "3.8.8"
  }
 },
 "nbformat": 4,
 "nbformat_minor": 4
}
