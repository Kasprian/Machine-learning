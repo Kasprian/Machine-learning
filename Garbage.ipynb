{
 "cells": [
  {
   "cell_type": "code",
   "execution_count": 17,
   "metadata": {},
   "outputs": [
    {
     "name": "stdout",
     "output_type": "stream",
     "text": [
      "[[ 2.29238399]\n",
      " [ 2.60903787]\n",
      " [ 1.24591778]\n",
      " [ 1.21957805]\n",
      " [-4.41925067]\n",
      " [-8.56075436]\n",
      " [-4.88664365]\n",
      " [ 2.50144493]\n",
      " [ 7.04152129]\n",
      " [ 5.07297444]\n",
      " [-2.74102575]\n",
      " [-7.52192192]\n",
      " [ 3.85828459]\n",
      " [-7.04274941]\n",
      " [ 2.81484072]\n",
      " [-3.98049988]\n",
      " [-4.53860494]\n",
      " [-6.98009874]\n",
      " [-6.0315685 ]\n",
      " [ 0.94272567]]\n",
      "[0.008158948951907892, 0.012607840569432, 0.01147155090207192, 0.010136302837186108, 0.024084446703473986, 0.012071540279951816, 0.01979505258320142, 0.027193296462163907, 0.012520788995320626, 0.024453697979376486]\n"
     ]
    }
   ],
   "source": [
    "import numpy as np\n",
    "import matplotlib.pyplot as plt\n",
    "from sklearn.model_selection import train_test_split\n",
    "from sklearn.linear_model import LinearRegression\n",
    "from sklearn.model_selection import KFold\n",
    "from sklearn.metrics import mean_squared_error\n",
    "\n",
    "X = np.load('Xtrain_Regression_part1.npy')\n",
    "y= np.load('Ytrain_Regression_part1.npy')\n",
    "X_train, X_test, y_train, y_test = train_test_split(X, y, test_size=0.2)\n",
    "\n",
    "linreg = LinearRegression()\n",
    "linreg.fit(X_train, y_train)\n",
    "y_hat_test = linreg.predict(X_test)\n",
    "print(y_hat_test)\n",
    "\n",
    "kf = KFold(n_splits=10)\n",
    "scores = []\n",
    "for train_index, test_index in kf.split(X,y):\n",
    "    X_train, X_test = X[train_index], X[test_index]\n",
    "    y_train, y_test = y[train_index], y[test_index]\n",
    "    linreg.fit(X_train, y_train)\n",
    "    predict = linreg.predict(X_test)\n",
    "    scores.append(mean_squared_error(y_test, predict))\n",
    "\n",
    "print(scores)"
   ]
  },
  {
   "cell_type": "code",
   "execution_count": 18,
   "metadata": {},
   "outputs": [
    {
     "name": "stdout",
     "output_type": "stream",
     "text": [
      "Coefficients: \n",
      " [[ 2.17327582e-02  5.52578871e-04  7.80913919e-02  3.31357433e-01\n",
      "  -6.81661406e-01  1.69721957e+00  4.98734472e-02  1.81267959e+00\n",
      "   7.78111741e-03 -1.44714336e-02 -1.45742338e+00 -7.07007047e-01\n",
      "   3.27382534e-02 -6.17384811e-01  6.92794585e-03 -3.76264812e-01\n",
      "  -1.29490509e-01 -1.36598513e+00 -1.27365158e+00  9.58563665e-01]]\n"
     ]
    }
   ],
   "source": [
    "import numpy as np\n",
    "import matplotlib.pyplot as plt\n",
    "from sklearn.model_selection import train_test_split\n",
    "from sklearn.linear_model import LinearRegression\n",
    "from sklearn.model_selection import KFold\n",
    "\n",
    "X = np.load('Xtrain_Regression_part1.npy')\n",
    "y= np.load('Ytrain_Regression_part1.npy')\n",
    "X_test = np.load('Xtest_Regression_Part1.npy')\n",
    "\n",
    "linreg = LinearRegression()\n",
    "linreg.fit(X, y)\n",
    "y_hat_test = linreg.predict(X_test)\n",
    "print('Coefficients: \\n', linreg.coef_)"
   ]
  },
  {
   "cell_type": "code",
   "execution_count": 8,
   "metadata": {},
   "outputs": [],
   "source": []
  },
  {
   "cell_type": "code",
   "execution_count": null,
   "metadata": {},
   "outputs": [],
   "source": []
  },
  {
   "cell_type": "code",
   "execution_count": null,
   "metadata": {},
   "outputs": [],
   "source": []
  }
 ],
 "metadata": {
  "kernelspec": {
   "display_name": "Python 3",
   "language": "python",
   "name": "python3"
  },
  "language_info": {
   "codemirror_mode": {
    "name": "ipython",
    "version": 3
   },
   "file_extension": ".py",
   "mimetype": "text/x-python",
   "name": "python",
   "nbconvert_exporter": "python",
   "pygments_lexer": "ipython3",
   "version": "3.8.8"
  }
 },
 "nbformat": 4,
 "nbformat_minor": 4
}
